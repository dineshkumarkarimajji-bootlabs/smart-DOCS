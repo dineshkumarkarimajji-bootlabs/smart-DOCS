{
 "cells": [
  {
   "cell_type": "code",
   "execution_count": 3,
   "id": "0394016d",
   "metadata": {},
   "outputs": [
    {
     "name": "stderr",
     "output_type": "stream",
     "text": [
      "2025-10-28 18:11:09,115 [INFO] Use pytorch device_name: mps\n",
      "2025-10-28 18:11:09,116 [INFO] Load pretrained SentenceTransformer: all-MiniLM-L6-v2\n",
      "2025-10-28 18:11:12,361 [INFO] Loaded existing Chroma collection 'documents'.\n",
      "Batches: 100%|██████████| 8/8 [00:00<00:00, 19.29it/s]\n",
      "2025-10-28 18:11:13,070 [INFO] Indexed 253 chunks from data/week 1 Lecture_1-5 CC_watermark.pdf in 0.71s\n",
      "Batches: 100%|██████████| 1/1 [00:00<00:00, 19.52it/s]\n",
      "2025-10-28 18:11:13,128 [INFO] Indexed 32 chunks from data/animal_facts.txt in 0.06s\n",
      "Batches: 100%|██████████| 1/1 [00:00<00:00, 139.92it/s]\n",
      "2025-10-28 18:11:13,138 [INFO] Query 'What is transformer architecture?...' retrieved 5 results in 0.01s\n",
      "2025-10-28 18:11:13,138 [INFO] Evaluation -> Similarity: 0.604, Hallucination Rate: 0.396\n"
     ]
    },
    {
     "name": "stdout",
     "output_type": "stream",
     "text": [
      "{'avg_similarity': 0.6040525375474043, 'hallucination_rate': 0.3959474624525957}\n"
     ]
    }
   ],
   "source": [
    "import App.retriever\n",
    "retriever = App.retriever.Retriever(embedding_model_name=\"all-MiniLM-L6-v2\", chunk_size=250)\n",
    "retriever.add_document(\"data/week 1 Lecture_1-5 CC_watermark.pdf\")\n",
    "retriever.add_document(\"data/animal_facts.txt\")\n",
    "\n",
    "results = retriever.query(\"What is transformer architecture?\", top_k=5)\n",
    "metrics = retriever.evaluate(\"What is transformer architecture?\", results)\n",
    "print(metrics)"
   ]
  }
 ],
 "metadata": {
  "kernelspec": {
   "display_name": "smart-docs-jp6Y2MZl-py3.13",
   "language": "python",
   "name": "python3"
  },
  "language_info": {
   "codemirror_mode": {
    "name": "ipython",
    "version": 3
   },
   "file_extension": ".py",
   "mimetype": "text/x-python",
   "name": "python",
   "nbconvert_exporter": "python",
   "pygments_lexer": "ipython3",
   "version": "3.13.7"
  }
 },
 "nbformat": 4,
 "nbformat_minor": 5
}
