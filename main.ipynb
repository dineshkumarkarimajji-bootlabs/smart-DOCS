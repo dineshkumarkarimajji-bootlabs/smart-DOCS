{
 "cells": [
  {
   "cell_type": "code",
   "execution_count": 1,
   "id": "0394016d",
   "metadata": {},
   "outputs": [
    {
     "name": "stderr",
     "output_type": "stream",
     "text": [
      "/Users/karimajjidineshkumar/Library/Caches/pypoetry/virtualenvs/smart-docs-jp6Y2MZl-py3.13/lib/python3.13/site-packages/tqdm/auto.py:21: TqdmWarning: IProgress not found. Please update jupyter and ipywidgets. See https://ipywidgets.readthedocs.io/en/stable/user_install.html\n",
      "  from .autonotebook import tqdm as notebook_tqdm\n",
      "2025-10-27 16:36:24,696 [INFO] Use pytorch device_name: mps\n",
      "2025-10-27 16:36:24,696 [INFO] Load pretrained SentenceTransformer: all-MiniLM-L6-v2\n",
      "2025-10-27 16:36:28,590 [INFO] Initialized retriever with model=all-MiniLM-L6-v2, chunk_size=250\n",
      "Batches: 100%|██████████| 8/8 [00:00<00:00, 22.64it/s]\n",
      "2025-10-27 16:36:29,198 [INFO] Indexed 253 chunks from data/Week 1 Lecture_1-5 CC_watermark.pdf in 0.61s\n",
      "Batches: 100%|██████████| 9/9 [00:00<00:00, 42.11it/s]\n",
      "2025-10-27 16:36:29,416 [INFO] Indexed 10 chunks from data/india.txt in 0.22s\n",
      "Batches: 100%|██████████| 1/1 [00:00<00:00, 31.07it/s]\n",
      "2025-10-27 16:36:29,451 [INFO] Query 'What is transformer architecture?...' retrieved 5 results in 0.03s\n",
      "2025-10-27 16:36:29,452 [INFO] Evaluation -> Similarity: 0.431, Hallucination Rate: 0.569\n"
     ]
    },
    {
     "name": "stdout",
     "output_type": "stream",
     "text": [
      "{'avg_similarity': 0.43140880254441577, 'hallucination_rate': 0.5685911974555842}\n"
     ]
    }
   ],
   "source": [
    "import App.retriever\n",
    "retriever = App.retriever.Retriever(embedding_model_name=\"all-MiniLM-L6-v2\", chunk_size=250)\n",
    "retriever.add_document(\"data/Week 1 Lecture_1-5 CC_watermark.pdf\")\n",
    "retriever.add_document(\"data/india.txt\")\n",
    "\n",
    "results = retriever.query(\"What is transformer architecture?\", top_k=5)\n",
    "metrics = retriever.evaluate(\"What is transformer architecture?\", results)\n",
    "print(metrics)"
   ]
  }
 ],
 "metadata": {
  "kernelspec": {
   "display_name": "smart-docs-jp6Y2MZl-py3.13",
   "language": "python",
   "name": "python3"
  },
  "language_info": {
   "codemirror_mode": {
    "name": "ipython",
    "version": 3
   },
   "file_extension": ".py",
   "mimetype": "text/x-python",
   "name": "python",
   "nbconvert_exporter": "python",
   "pygments_lexer": "ipython3",
   "version": "3.13.7"
  }
 },
 "nbformat": 4,
 "nbformat_minor": 5
}
