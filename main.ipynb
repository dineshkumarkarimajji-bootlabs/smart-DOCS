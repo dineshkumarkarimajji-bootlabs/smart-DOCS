{
 "cells": [
  {
   "cell_type": "code",
   "execution_count": null,
   "id": "d85a2dd2",
   "metadata": {},
   "outputs": [
    {
     "name": "stderr",
     "output_type": "stream",
     "text": [
      "2025-10-30 10:09:36,950 [INFO] Use pytorch device_name: mps\n",
      "2025-10-30 10:09:36,951 [INFO] Load pretrained SentenceTransformer: all-MiniLM-L6-v2\n",
      "Batches: 100%|██████████| 1/1 [00:00<00:00, 51.97it/s]\n",
      "2025-10-30 10:09:40,218 [INFO] Indexed 3 chunks from /Users/karimajjidineshkumar/Desktop/data1.rtf for user 'user1'\n",
      "Batches: 100%|██████████| 1/1 [00:00<00:00, 63.93it/s]\n",
      "2025-10-30 10:09:40,238 [INFO] Indexed 3 chunks from /Users/karimajjidineshkumar/Desktop/Data2.rtf for user 'user1'\n",
      "Batches: 100%|██████████| 1/1 [00:00<00:00, 198.80it/s]\n",
      "2025-10-30 10:09:40,245 [INFO] Evaluation -> Similarity: 0.603, Hallucination Rate: 0.397\n"
     ]
    },
    {
     "name": "stdout",
     "output_type": "stream",
     "text": [
      "{'avg_similarity': 0.6027401370830245, 'hallucination_rate': 0.39725986291697546}\n"
     ]
    }
   ],
   "source": [
    "\n",
    "import App.retriever\n",
    "retriever = App.retriever.Retriever(embedding_model_name=\"all-MiniLM-L6-v2\", chunk_size=250)\n",
    "# Add documents (simulate upload)\n",
    "retriever.add_document(\"/Users/karimajjidineshkumar/Desktop/data1.rtf\", \"user1\")\n",
    "retriever.add_document(\"/Users/karimajjidineshkumar/Desktop/Data2.rtf\", \"user1\")\n",
    "results = retriever.query(\"What is transformer architecture?\", top_k=5)\n",
    "metrics = retriever.evaluate(\"What is transformer architecture?\", results)\n",
    "print(metrics)\n"
   ]
  }
 ],
 "metadata": {
  "kernelspec": {
   "display_name": "smart-docs-jp6Y2MZl-py3.13",
   "language": "python",
   "name": "python3"
  },
  "language_info": {
   "codemirror_mode": {
    "name": "ipython",
    "version": 3
   },
   "file_extension": ".py",
   "mimetype": "text/x-python",
   "name": "python",
   "nbconvert_exporter": "python",
   "pygments_lexer": "ipython3",
   "version": "3.13.7"
  }
 },
 "nbformat": 4,
 "nbformat_minor": 5
}
